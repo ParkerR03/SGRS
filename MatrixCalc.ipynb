{
 "cells": [
  {
   "cell_type": "code",
   "execution_count": 1,
   "metadata": {},
   "outputs": [
    {
     "name": "stderr",
     "output_type": "stream",
     "text": [
      "c:\\Users\\parke\\AppData\\Local\\Programs\\Python\\Python312\\Lib\\site-packages\\sklearn\\base.py:380: InconsistentVersionWarning: Trying to unpickle estimator MinMaxScaler from version 1.6.0 when using version 1.6.1. This might lead to breaking code or invalid results. Use at your own risk. For more info please refer to:\n",
      "https://scikit-learn.org/stable/model_persistence.html#security-maintainability-limitations\n",
      "  warnings.warn(\n",
      "c:\\Users\\parke\\AppData\\Local\\Programs\\Python\\Python312\\Lib\\site-packages\\sklearn\\base.py:380: InconsistentVersionWarning: Trying to unpickle estimator TfidfTransformer from version 1.6.0 when using version 1.6.1. This might lead to breaking code or invalid results. Use at your own risk. For more info please refer to:\n",
      "https://scikit-learn.org/stable/model_persistence.html#security-maintainability-limitations\n",
      "  warnings.warn(\n",
      "c:\\Users\\parke\\AppData\\Local\\Programs\\Python\\Python312\\Lib\\site-packages\\sklearn\\base.py:380: InconsistentVersionWarning: Trying to unpickle estimator TfidfVectorizer from version 1.6.0 when using version 1.6.1. This might lead to breaking code or invalid results. Use at your own risk. For more info please refer to:\n",
      "https://scikit-learn.org/stable/model_persistence.html#security-maintainability-limitations\n",
      "  warnings.warn(\n"
     ]
    }
   ],
   "source": [
    "import numpy as np\n",
    "from sklearn.feature_extraction.text import TfidfVectorizer\n",
    "from scipy.sparse import hstack\n",
    "from sklearn.preprocessing import MinMaxScaler\n",
    "import recfunctions as rec\n",
    "import joblib"
   ]
  },
  {
   "cell_type": "code",
   "execution_count": 4,
   "metadata": {},
   "outputs": [],
   "source": [
    "#games that it recommends from\n",
    "rec_data = rec.rec_data\n",
    "\n",
    "#games to search from user input\n",
    "full_data = rec.full_data"
   ]
  },
  {
   "cell_type": "code",
   "execution_count": 5,
   "metadata": {},
   "outputs": [
    {
     "data": {
      "text/plain": [
       "<COOrdinate sparse matrix of dtype 'float64'\n",
       "\twith 984550 stored elements and shape (34333, 537)>"
      ]
     },
     "execution_count": 5,
     "metadata": {},
     "output_type": "execute_result"
    }
   ],
   "source": [
    "#Lets start by computing the cosine similarity between the achievement games\n",
    "\n",
    "#Initialize the vectorizer\n",
    "vectorizer = TfidfVectorizer()\n",
    "\n",
    "#Fit the vectorizer to the combined info column\n",
    "vectorizer.fit(full_data['combined_info'])\n",
    "\n",
    "tfidf_matrix = vectorizer.transform(rec_data['combined_info'])\n",
    "\n",
    "#Also include the numeric features\n",
    "numeric_features = ['Price', 'dayssincereference']\n",
    "numeric_features1 = ['wilson_score']\n",
    "\n",
    "rec_data\n",
    "\n",
    "#Scale the numeric features\n",
    "scaler = MinMaxScaler()\n",
    "scaled_features = scaler.fit_transform(rec_data[numeric_features].values)\n",
    "\n",
    "scaler1 = MinMaxScaler()\n",
    "scaled_features1 = scaler1.fit_transform(rec_data[numeric_features1].values)\n",
    "\n",
    "#define weights and combine the two matrices\n",
    "numeric_weight = .5\n",
    "numeric_weight1 = .7  #this is the weight for the wilson score because it is more important than price and date\n",
    "\n",
    "#Multiply the scaled features by the weights\n",
    "weighted_numeric = scaled_features * numeric_weight\n",
    "weighted_numeric1 = scaled_features1 * numeric_weight1\n",
    "\n",
    "\n",
    "#Lets also add a weight to the text so that the text features are not too dominant but still dominant\n",
    "text_weight = .8\n",
    "weighted_tfidf = tfidf_matrix * text_weight\n",
    "\n",
    "weighted_features = hstack([tfidf_matrix, weighted_numeric, weighted_numeric1])\n",
    "\n",
    "weighted_features"
   ]
  },
  {
   "cell_type": "code",
   "execution_count": 7,
   "metadata": {},
   "outputs": [
    {
     "data": {
      "text/plain": [
       "['Stuff/weighted_features.pkl']"
      ]
     },
     "execution_count": 7,
     "metadata": {},
     "output_type": "execute_result"
    }
   ],
   "source": [
    "#Save the Vectorizers and scalers and the weighted features matrix\n",
    "\n",
    "joblib.dump(vectorizer, 'Stuff/vectorizer.pkl')\n",
    "joblib.dump(scaler, 'Stuff/scaler.pkl')\n",
    "joblib.dump(scaler1, 'Stuff/scaler1.pkl')\n",
    "joblib.dump(weighted_features, 'Stuff/weighted_features.pkl')\n",
    "\n"
   ]
  },
  {
   "cell_type": "code",
   "execution_count": 6,
   "metadata": {},
   "outputs": [
    {
     "data": {
      "text/plain": [
       "<COOrdinate sparse matrix of dtype 'float64'\n",
       "\twith 984550 stored elements and shape (34333, 537)>"
      ]
     },
     "execution_count": 6,
     "metadata": {},
     "output_type": "execute_result"
    }
   ],
   "source": []
  }
 ],
 "metadata": {
  "kernelspec": {
   "display_name": "Python 3",
   "language": "python",
   "name": "python3"
  },
  "language_info": {
   "codemirror_mode": {
    "name": "ipython",
    "version": 3
   },
   "file_extension": ".py",
   "mimetype": "text/x-python",
   "name": "python",
   "nbconvert_exporter": "python",
   "pygments_lexer": "ipython3",
   "version": "3.12.9"
  }
 },
 "nbformat": 4,
 "nbformat_minor": 2
}
