{
 "cells": [
  {
   "cell_type": "markdown",
   "metadata": {},
   "source": [
    "This file serves to test my functions in the other files. To make sure reccommendations work\n"
   ]
  },
  {
   "cell_type": "code",
   "execution_count": 2,
   "metadata": {},
   "outputs": [],
   "source": [
    "import recfunctions as rec\n"
   ]
  },
  {
   "cell_type": "code",
   "execution_count": 3,
   "metadata": {},
   "outputs": [
    {
     "name": "stdout",
     "output_type": "stream",
     "text": [
      "Game found\n",
      "Game found\n",
      "Game found\n"
     ]
    }
   ],
   "source": [
    "games = ['Car Mechanic Simulator 2021', 'Rocket League®', 'Race']\n",
    "data = rec.full_data\n",
    "data1 = rec.rec_data\n",
    "for game in games:\n",
    "    if game.lower() in map(str.lower, data['Name']):\n",
    "        print('Game found')\n",
    "    else:\n",
    "        print('Game not found')\n"
   ]
  },
  {
   "cell_type": "code",
   "execution_count": 4,
   "metadata": {},
   "outputs": [
    {
     "data": {
      "text/plain": [
       "[np.int64(1190000), np.int64(252950), np.int64(768800)]"
      ]
     },
     "execution_count": 4,
     "metadata": {},
     "output_type": "execute_result"
    }
   ],
   "source": [
    "ids = []\n",
    "\n",
    "for game in games:\n",
    "    ids.append(rec.get_game_id(game))\n",
    "    \n",
    "ids"
   ]
  },
  {
   "cell_type": "code",
   "execution_count": 5,
   "metadata": {},
   "outputs": [],
   "source": [
    "recommendations = rec.get_recommendations(ids)\n"
   ]
  },
  {
   "cell_type": "code",
   "execution_count": 6,
   "metadata": {},
   "outputs": [
    {
     "data": {
      "text/plain": [
       "[np.int64(30288),\n",
       " np.int64(5625),\n",
       " np.int64(30994),\n",
       " np.int64(17927),\n",
       " np.int64(20920)]"
      ]
     },
     "execution_count": 6,
     "metadata": {},
     "output_type": "execute_result"
    }
   ],
   "source": [
    "recommendations\n",
    "game_ids = recommendations[0]\n",
    "game_ids"
   ]
  },
  {
   "cell_type": "code",
   "execution_count": 7,
   "metadata": {},
   "outputs": [
    {
     "data": {
      "text/html": [
       "<div>\n",
       "<style scoped>\n",
       "    .dataframe tbody tr th:only-of-type {\n",
       "        vertical-align: middle;\n",
       "    }\n",
       "\n",
       "    .dataframe tbody tr th {\n",
       "        vertical-align: top;\n",
       "    }\n",
       "\n",
       "    .dataframe thead th {\n",
       "        text-align: right;\n",
       "    }\n",
       "</style>\n",
       "<table border=\"1\" class=\"dataframe\">\n",
       "  <thead>\n",
       "    <tr style=\"text-align: right;\">\n",
       "      <th></th>\n",
       "      <th>AppID</th>\n",
       "      <th>Name</th>\n",
       "      <th>Achievements</th>\n",
       "      <th>combined_info</th>\n",
       "      <th>Price</th>\n",
       "      <th>Price_Range</th>\n",
       "      <th>dayssincereference</th>\n",
       "      <th>wilson_score</th>\n",
       "    </tr>\n",
       "  </thead>\n",
       "  <tbody>\n",
       "    <tr>\n",
       "      <th>30288</th>\n",
       "      <td>2108330</td>\n",
       "      <td>F1® 23</td>\n",
       "      <td>49</td>\n",
       "      <td>Single player,Multi player,PvP,Online PvP,Shar...</td>\n",
       "      <td>69.99</td>\n",
       "      <td>$60 to $70</td>\n",
       "      <td>9482</td>\n",
       "      <td>0.846294</td>\n",
       "    </tr>\n",
       "    <tr>\n",
       "      <th>5625</th>\n",
       "      <td>473770</td>\n",
       "      <td>BallisticNG</td>\n",
       "      <td>26</td>\n",
       "      <td>Single player,Multi player,PvP,Online PvP,LAN ...</td>\n",
       "      <td>7.99</td>\n",
       "      <td>$5 to $10</td>\n",
       "      <td>7838</td>\n",
       "      <td>0.925079</td>\n",
       "    </tr>\n",
       "    <tr>\n",
       "      <th>30994</th>\n",
       "      <td>2217910</td>\n",
       "      <td>NeoSprint</td>\n",
       "      <td>37</td>\n",
       "      <td>Single player,Multi player,PvP,Shared/Split Sc...</td>\n",
       "      <td>24.99</td>\n",
       "      <td>$20 to $40</td>\n",
       "      <td>9860</td>\n",
       "      <td>0.797578</td>\n",
       "    </tr>\n",
       "    <tr>\n",
       "      <th>17927</th>\n",
       "      <td>1127980</td>\n",
       "      <td>NASCAR Heat 4</td>\n",
       "      <td>61</td>\n",
       "      <td>Single player,Multi player,PvP,Online PvP,Shar...</td>\n",
       "      <td>14.99</td>\n",
       "      <td>$10 to $20</td>\n",
       "      <td>8111</td>\n",
       "      <td>0.787119</td>\n",
       "    </tr>\n",
       "    <tr>\n",
       "      <th>20920</th>\n",
       "      <td>1301010</td>\n",
       "      <td>World Racing 2 - Champion Edition</td>\n",
       "      <td>52</td>\n",
       "      <td>Single player,Multi player,PvP,Shared/Split Sc...</td>\n",
       "      <td>7.79</td>\n",
       "      <td>$5 to $10</td>\n",
       "      <td>9293</td>\n",
       "      <td>0.929951</td>\n",
       "    </tr>\n",
       "  </tbody>\n",
       "</table>\n",
       "</div>"
      ],
      "text/plain": [
       "         AppID                               Name  Achievements  \\\n",
       "30288  2108330                             F1® 23            49   \n",
       "5625    473770                        BallisticNG            26   \n",
       "30994  2217910                          NeoSprint            37   \n",
       "17927  1127980                      NASCAR Heat 4            61   \n",
       "20920  1301010  World Racing 2 - Champion Edition            52   \n",
       "\n",
       "                                           combined_info  Price Price_Range  \\\n",
       "30288  Single player,Multi player,PvP,Online PvP,Shar...  69.99  $60 to $70   \n",
       "5625   Single player,Multi player,PvP,Online PvP,LAN ...   7.99   $5 to $10   \n",
       "30994  Single player,Multi player,PvP,Shared/Split Sc...  24.99  $20 to $40   \n",
       "17927  Single player,Multi player,PvP,Online PvP,Shar...  14.99  $10 to $20   \n",
       "20920  Single player,Multi player,PvP,Shared/Split Sc...   7.79   $5 to $10   \n",
       "\n",
       "       dayssincereference  wilson_score  \n",
       "30288                9482      0.846294  \n",
       "5625                 7838      0.925079  \n",
       "30994                9860      0.797578  \n",
       "17927                8111      0.787119  \n",
       "20920                9293      0.929951  "
      ]
     },
     "execution_count": 7,
     "metadata": {},
     "output_type": "execute_result"
    }
   ],
   "source": [
    "rows = data1.iloc[game_ids]\n",
    "rows\n"
   ]
  },
  {
   "cell_type": "code",
   "execution_count": null,
   "metadata": {},
   "outputs": [],
   "source": [
    "#yipee it works\n"
   ]
  },
  {
   "cell_type": "code",
   "execution_count": null,
   "metadata": {},
   "outputs": [],
   "source": []
  },
  {
   "cell_type": "code",
   "execution_count": null,
   "metadata": {},
   "outputs": [],
   "source": []
  }
 ],
 "metadata": {
  "kernelspec": {
   "display_name": "Python 3",
   "language": "python",
   "name": "python3"
  },
  "language_info": {
   "codemirror_mode": {
    "name": "ipython",
    "version": 3
   },
   "file_extension": ".py",
   "mimetype": "text/x-python",
   "name": "python",
   "nbconvert_exporter": "python",
   "pygments_lexer": "ipython3",
   "version": "3.12.9"
  }
 },
 "nbformat": 4,
 "nbformat_minor": 2
}
